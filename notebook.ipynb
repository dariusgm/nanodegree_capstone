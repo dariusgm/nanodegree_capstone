{
 "cells": [
  {
   "cell_type": "markdown",
   "metadata": {},
   "source": [
    "# Machine Learning Engineer Nanodegree\n",
    "## Capstone Project\n",
    "Darius Murawski\n",
    "12.09.2018"
   ]
  },
  {
   "cell_type": "markdown",
   "metadata": {},
   "source": [
    "# I. Definition\n",
    "## Project Overview\n",
    "\n",
    "### Problem Domain\n",
    "\n",
    "Hard drives are used to save data from the operating system and different applications that are running on the server. The average price for a gigabyte is dropping and the demand for more space on the servers is growing. This results in a higher total number of hard drives running. As more drives are present in a data storage system, as more hard drives can fail, leading to data inconsistency and a major fail of the provided services. Since several years, hard drive vendors provide some values of this hard drives that reflect their current state. Based on this values, a broken drive can be identified. For more information on this so called S.M.A.R.T. values, see [wikipedia](https://en.wikipedia.org/wiki/S.M.A.R.T.). \n",
    "\n",
    "### Input Data overview\n",
    "\n",
    "A crash of a hard drive in a private environment is happening very rarely because the amount of total dives is very low. I searched and found a huge dataset provied by [backblaze.com](https://www.backblaze.com/b2/hard-drive-test-data.html). They are running a huge data storage system with several thousend hard drive for their customers. For each quarter, the show their running and failed drives in a csv format for further research. They have a licence for this data, that I like to cite at this place: \n",
    "\n",
    "`You can download and use this data for free for your own purpose, all we ask is three things 1) you cite Backblaze as the source if you use the data, 2) you accept that you are solely responsible for how you use the data, and 3) you do not sell this data to anyone, it is free.`\n",
    "\n",
    "\n",
    "\n",
    "\n",
    "\n"
   ]
  },
  {
   "cell_type": "markdown",
   "metadata": {},
   "source": [
    "## Problem Statement\n",
    "Fails on a hard drive can be recovered using different techniques like raid settings or mirroring the data in different data centers. But the broken hard drive have to be replaced sooner or later with a new one, to make sure more fails on associated hard drives don’t break the data consistency. For each broken hard drive, somebody have to drive to the storage system, look it up in the storage system and replace it. This procedure have to be done each time one drive fails in the worst case and each time generating maintenance costs for the operating company. \n",
    "\n",
    "This costs can be reduced by replacing more drives than just the broken one by the maintenance people, as they only have to went to the storage system once and not several times. But what drives should they replace? In this Capstone project I want to generate a fail probability for each of the drives running in the storage system. The drives with a predicted fail should be replaced beforehand to reduce the maintenance costs in mid-range for the company operating the storage system.\n",
    "\n",
    "The described problem can be seen as a binary classification problem, where the allowed labels are only 0, for “hard drive is running” and 1 for “hard drive failed”. When generating predictions, 0 represents “hard drive will run further” and 1 for “hard drive will (soon) fail and should be replaced. \n",
    "\n",
    "### Related papers and articles\n",
    "Looking up in papers and articles, this kind of problem is referenced as predictive maintenance (PdM): Before waiting that something breaks, we replace the appropriate part in a regular maintenance to make sure that the entire system is able to continue running as expected.\n",
    "\n",
    "|Authors|Topic / Title|Document|\n",
    "|--|--|--|\n",
    "|Julia Scavicchio|Definition “Predictive Maintenance” (PdM)”|[Link](https://www.hippocmms.com/blog/3-cmms-trends-for-2016-millennials-mobility-and-machine-learning)\n",
    "|Jennifer Ho|Overview of industries, <br>using Algorithms to reduce their machine downtime with further links|[Link](https://www.distrelec.de/current/en/artificial-intelligence/eliminating-machine-downtime-how-ai-is-transforming-maintenance/)\n",
    "|Taylor Short|What type of sensors can be used for predictive maintenance|[Link](https://www.softwareadvice.com/resources/predictive-maintenance-reduce-downtime/)\n",
    "|Gian Antonio Susto,<br> Andrea Schirru,<br> Simone Pampuri,<br> Seán McLoone,<br> Alessandro Beghi|Machine Learning for Predictive Maintenance: <br>A Multiple Classifier Approach|[Link](https://ieeexplore.ieee.org/abstract/document/6879441)\n",
    "|Dr. Miguel A. Sanz Bobi,<br> Maria Cruz García,<br> Javier del Pico-Aznar | SIMAP: Intelligent System for Predictive Maintenance: <br>Application to the health condition monitoring of a windturbine gearbox|[Link](https://www.sciencedirect.com/science/article/pii/S0166361506000534)\n",
    "|Hongfei Li,<br> Dhaivat Parikh,<br> Qing He,<br> Buyue Qian,<br> Zhiguo Li Dongping Fang,<br> Arun Hampapur| Improving rail network velocity: <br>A machine learning approach to predictive maintenance | [Link](https://www.acsu.buffalo.edu/~qinghe/papers/journal/2014%20Railway%20Velocity.pdf)\n",
    "|Eduardo Pinheiro,<br> Wolf-Dietrich Weber,<br> Luiz Andre Barroso - Google| Failure Trends in a Large Disk Drive Population| [Link](http://static.googleusercontent.com/media/research.google.com/en/us/archive/disk_failures.pdf) or [Link](https://ai.google/research/pubs/pub32774)\n",
    "|Various|General Introduction into S.M.A.R.T.|[Link](https://en.wikipedia.org/wiki/S.M.A.R.T.)\n"
   ]
  },
  {
   "cell_type": "markdown",
   "metadata": {},
   "source": [
    "## Solution Statement\n",
    "\n",
    "I want to train a model that returns a \"1\", given by the provided features, that returns a prediction for a hard drive to fail. Drives with this value should be replaced by the maintenance team before."
   ]
  },
  {
   "cell_type": "markdown",
   "metadata": {},
   "source": [
    "## Metrics\n",
    "The data is highly unbalanced. That results in using the F Beta Score to measure the performance of the model. I will not use the accuracy as metric as the data is very unbalanced. See [accuracy paradox](https://machinelearningmastery.com/classification-accuracy-is-not-enough-more-performance-measures-you-can-use/)."
   ]
  },
  {
   "cell_type": "markdown",
   "metadata": {},
   "source": [
    "# II. Analysis"
   ]
  },
  {
   "cell_type": "markdown",
   "metadata": {},
   "source": [
    "## Data Exploration\n",
    "For each day and each drive an entry is generated in a quarter file that is than later on compressed and made available to the public. Failed drives are also included in this dataset and on the next day removed from the list. The dataset contains of the following columns (see: [backblaze.com](https://www.backblaze.com/b2/hard-drive-test-data.html)):\n",
    "\n",
    "* Date – The date of the file in yyyy-mm-dd format.\n",
    "* Serial Number – The manufacturer-assigned serial number of the drive.\n",
    "* Model – The manufacturer-assigned model number of the drive.\n",
    "* Capacity – The drive capacity in bytes.\n",
    "* Failure – Contains a “0” if the drive is OK. Contains a “1” if this is the last day the drive was operational before failing.\n",
    "* Normalized and Raw S.M.A.R.T. values from 1 upto 255. The data have a different set of S.M.A.R.T. values.\n",
    "\n",
    "The normalized values are sometimes not provided, for examle to return the amount of hours a drive was already running a normalization makes no sence. I decided to only use the raw values. The Ranges of the values are vendor specific. Thats why I decided not to build a model for everything, but instead generate a model specific one.\n",
    "\n",
    "The entire dataset (I call it `raw`) is split into several pieces. Each piece referencing the year and the quarter that this data was extracted from. The following table shows some more detailed information about the dataset:\n",
    "\n",
    "|file|year|quarter(s)|compressed MB|uncompressed MB|files|\n",
    "|--  |  --|       --|           --|             --|   --|\n",
    "|[data_2013.zip](https://f001.backblazeb2.com/file/Backblaze-Hard-Drive-Data/data_2013.zip)|2013|Q1,Q2,Q3,Q4|77|738|266|\n",
    "|[data_2014.zip](https://f001.backblazeb2.com/file/Backblaze-Hard-Drive-Data/data_2014.zip)|2014|Q1,Q2,Q3,Q4|560|2880|365|\n",
    "|[data_2015.zip](https://f001.backblazeb2.com/file/Backblaze-Hard-Drive-Data/data_2015.zip)|2015|Q1,Q2,Q3,Q4|803|4294|366|\n",
    "|[data_Q1_2016.zip](https://f001.backblazeb2.com/file/Backblaze-Hard-Drive-Data/data_Q1_2016.zip)|2016|Q1|257|1356|92|\n",
    "|[data_Q2_2016.zip](https://f001.backblazeb2.com/file/Backblaze-Hard-Drive-Data/data_Q2_2016.zip)|2016|Q2|278|1478|92|\n",
    "|[data_Q3_2016.zip](https://f001.backblazeb2.com/file/Backblaze-Hard-Drive-Data/data_Q3_2016.zip)|2016|Q3|307|1604|92|\n",
    "|[data_Q4_2016.zip](https://f001.backblazeb2.com/file/Backblaze-Hard-Drive-Data/data_Q4_2016.zip)|2016|Q4|321|1651|92|\n",
    "|[data_Q1_2017.zip](https://f001.backblazeb2.com/file/Backblaze-Hard-Drive-Data/data_Q1_2017.zip)|2017|Q1|323|1659|90|\n",
    "|[data_Q2_2017.zip](https://f001.backblazeb2.com/file/Backblaze-Hard-Drive-Data/data_Q2_2017.zip)|2017|Q2|368|1895|91|\n",
    "|[data_Q3_2017.zip](https://f001.backblazeb2.com/file/Backblaze-Hard-Drive-Data/data_Q3_2017.zip)|2017|Q3|406|2027|92|\n",
    "|[data_Q4_2017.zip](https://f001.backblazeb2.com/file/Backblaze-Hard-Drive-Data/data_Q4_2017.zip)|2017|Q4|434|2112|93|\n",
    "|[data_Q1_2018.zip](https://f001.backblazeb2.com/file/Backblaze-Hard-Drive-Data/data_Q1_2018.zip)|2018|Q1|484|2381|90|\n",
    "|[data_Q1_2018.zip](https://f001.backblazeb2.com/file/Backblaze-Hard-Drive-Data/data_Q1_2018.zip)|2018|Q2|502|2472|91|\n",
    "|Total|2013 - 2018|14|5128|26536|1912|\n",
    "\n",
    "For the first years, the data was collected on a year basis, but then starting from 2016, the data was splitted by quarter.\n",
    "\n",
    "The Input Features are the hard drive model, and the returned S.M.A.R.T. values of the drive at the timestamp represented by \"date\". The data is highly unbalanced, as only about 1.8% drives in the reporting period between April 2003 and June 2018 failed (see: [backblaze.com](https://www.backblaze.com/blog/hard-drive-stats-for-q2-2018/)) .\n",
    "\n",
    "As of time writing, Q2 for 2018 was the latest dataset. Note that the amount of information changed over time. From 2013 to 2014, 80 columns of data were collected for each drive. From 2015 to 2017 90 columns of data were collected. For Q2 2018, 104 columns with data was collected. Each reflecting a subset of the possible 256 S.M.A.R.T. \"columns\" with the raw and the normalized value. \n",
    "\n",
    "I choosed as an example the hard drive model \"ST6000DX000\" by Seagate for the visualization part. Examples are provided in \"Exploratory Visualisation\":"
   ]
  },
  {
   "cell_type": "markdown",
   "metadata": {},
   "source": [
    "## Exploratory Visualization"
   ]
  },
  {
   "cell_type": "markdown",
   "metadata": {},
   "source": [
    "The mapping and the preferred value-range of each S.M.A.R.T. value was extracted from [wikipedia.org](https://en.wikipedia.org/wiki/S.M.A.R.T.) - I extracted the map to the [helper.py](helper.py) to have a better overview inside the nodebook"
   ]
  },
  {
   "cell_type": "markdown",
   "metadata": {},
   "source": [
    "I could extract three groups of features based on the following plots:\n",
    "* Feature that seem to not be correlated to a fail of the given hard drive model\n",
    "* Feature that are supposed to have a correlation, proposed by wikipedia\n",
    "* Feature that seems to have a correlation, based on the plot. "
   ]
  },
  {
   "cell_type": "code",
   "execution_count": 1,
   "metadata": {},
   "outputs": [
    {
     "data": {
      "text/html": [
       "<script>requirejs.config({paths: { 'plotly': ['https://cdn.plot.ly/plotly-latest.min']},});if(!window.Plotly) {{require(['plotly'],function(plotly) {window.Plotly=plotly;});}}</script>"
      ],
      "text/vnd.plotly.v1+html": [
       "<script>requirejs.config({paths: { 'plotly': ['https://cdn.plot.ly/plotly-latest.min']},});if(!window.Plotly) {{require(['plotly'],function(plotly) {window.Plotly=plotly;});}}</script>"
      ]
     },
     "metadata": {},
     "output_type": "display_data"
    },
    {
     "name": "stderr",
     "output_type": "stream",
     "text": [
      "Using TensorFlow backend.\n"
     ]
    },
    {
     "data": {
      "text/html": [
       "<script>requirejs.config({paths: { 'plotly': ['https://cdn.plot.ly/plotly-latest.min']},});if(!window.Plotly) {{require(['plotly'],function(plotly) {window.Plotly=plotly;});}}</script>"
      ],
      "text/vnd.plotly.v1+html": [
       "<script>requirejs.config({paths: { 'plotly': ['https://cdn.plot.ly/plotly-latest.min']},});if(!window.Plotly) {{require(['plotly'],function(plotly) {window.Plotly=plotly;});}}</script>"
      ]
     },
     "metadata": {},
     "output_type": "display_data"
    },
    {
     "data": {
      "text/html": [
       "<script>requirejs.config({paths: { 'plotly': ['https://cdn.plot.ly/plotly-latest.min']},});if(!window.Plotly) {{require(['plotly'],function(plotly) {window.Plotly=plotly;});}}</script>"
      ],
      "text/vnd.plotly.v1+html": [
       "<script>requirejs.config({paths: { 'plotly': ['https://cdn.plot.ly/plotly-latest.min']},});if(!window.Plotly) {{require(['plotly'],function(plotly) {window.Plotly=plotly;});}}</script>"
      ]
     },
     "metadata": {},
     "output_type": "display_data"
    }
   ],
   "source": [
    "from helper import Helper\n",
    "helper = Helper()\n",
    "smart_to_name = helper.smart_to_name()\n",
    "\n",
    "# We also need to define the basic column names, that are also present beside the S.M.A.R.T. values. \n",
    "# They are also extracted to the helper.py\n",
    "column_list = helper.column_list()\n",
    "\n",
    "\n",
    "from preprocessing import Preprocessing # A lot of preprocessing code was extracted, as requested by the first review\n",
    "from kerasalgorithm import KerasAlgorithm\n",
    "from xgboostgbtreealgorithm import XGBoostGbtreeAlgorithm\n",
    "from lightgbmalgorithm import LightGBMAlgorithm\n",
    "from algorithm_runner import AlgorithmRunner # Extracted the complex running logic\n",
    "from winner import Winner # Extract winner logic\n",
    "from searchwithgrid import SearchWithGrid # Own GridSearch Implementation\n",
    "from validation import Validation # Validation class\n",
    "from freestyle import Freestyle # Freestyle visualisation\n",
    "\n",
    "import pandas as pd\n",
    "import numpy as np\n",
    "import matplotlib.pyplot as plt\n",
    "%matplotlib inline\n",
    "import os\n",
    "import random\n",
    "import glob\n",
    "import sys\n",
    "import requests\n",
    "import shutil\n",
    "import zipfile\n",
    "# see: https://docs.python.org/3/library/concurrent.futures.html\n",
    "from concurrent.futures import Executor, ThreadPoolExecutor\n",
    "import math\n",
    "from math import floor\n",
    "import plotly\n",
    "import plotly.graph_objs as go\n",
    "plotly.offline.init_notebook_mode(connected=True)\n",
    "\n",
    "from tqdm import tqdm\n",
    "from joblib import Parallel, delayed\n",
    "from time import time, sleep\n",
    "\n",
    "from traceback import print_stack\n",
    "\n",
    "# This makes sure that my C: drives is not full of the downloaded data...\n",
    "if os.path.exists(os.path.join('D:','capstone')):\n",
    "    os.chdir(os.path.join('D:','capstone'))"
   ]
  },
  {
   "cell_type": "code",
   "execution_count": 2,
   "metadata": {},
   "outputs": [],
   "source": [
    "if not os.path.exists(os.path.join('drives', 'ST6000DX000.csv')):\n",
    "    raise Exception('Please run first the data preprocessing steps, before rerunning this cells as they depend on the preprocessing results!')"
   ]
  },
  {
   "cell_type": "code",
   "execution_count": 9,
   "metadata": {},
   "outputs": [],
   "source": [
    "st_df = pd.read_csv(os.path.join('drives', 'ST6000DX000.csv'), names=column_list, header=None)"
   ]
  },
  {
   "cell_type": "code",
   "execution_count": 13,
   "metadata": {},
   "outputs": [],
   "source": [
    "st_df.dropna(inplace=True, how='all', axis='columns')"
   ]
  },
  {
   "cell_type": "code",
   "execution_count": 14,
   "metadata": {},
   "outputs": [],
   "source": [
    "st_df.rename(columns=smart_to_name, inplace=True)"
   ]
  },
  {
   "cell_type": "markdown",
   "metadata": {},
   "source": [
    "Lets check if any unmapped columns exist, that we have to take a look at:"
   ]
  },
  {
   "cell_type": "code",
   "execution_count": 16,
   "metadata": {
    "scrolled": true
   },
   "outputs": [
    {
     "data": {
      "text/plain": [
       "Index(['date', 'serial_number', 'model', 'capacity_bytes', 'failure',\n",
       "       'Read Error Rate', 'Spin-Up Time', 'Start/Stop Count',\n",
       "       'Reallocated Sectors Count', 'Seek Error Rate', 'Power-On Hours',\n",
       "       'Spin Retry Count', 'Power Cycle Count', 'SATA Downshift Error Count',\n",
       "       'End-to-End error', 'Reported Uncorrectable Errors', 'Command Timeout',\n",
       "       'High Fly Writes', 'Temperature Difference', 'G-sense Error Rate',\n",
       "       'Power-off Retract Count', 'Load Cycle Count', 'Temperature',\n",
       "       'Hardware ECC Recovered', 'Current Pending Sector Count',\n",
       "       '(Offline) Uncorrectable Sector Count', 'UltraDMA CRC Error Count',\n",
       "       'Head Flying Hours', 'Total LBAs Written', 'Total LBAs Read'],\n",
       "      dtype='object')"
      ]
     },
     "execution_count": 16,
     "metadata": {},
     "output_type": "execute_result"
    }
   ],
   "source": [
    "st_df.columns"
   ]
  },
  {
   "cell_type": "markdown",
   "metadata": {},
   "source": [
    "no, everything is mapped given a name. Now lets define the plotting method:"
   ]
  },
  {
   "cell_type": "code",
   "execution_count": 4,
   "metadata": {},
   "outputs": [],
   "source": [
    "def plot_feature(feature, df):\n",
    "    plt.boxplot(\n",
    "            [np.array(df[df['failure'] == 0][feature]), np.array(df[df['failure'] == 1][feature])],            \n",
    "            vert=False,\n",
    "            labels=['running: {}'.format(feature),'failed: {}'.format(feature)],\n",
    "            autorange=True, widths=0.9)\n",
    "    plt.show()  "
   ]
  },
  {
   "cell_type": "markdown",
   "metadata": {},
   "source": [
    "### Not Correlated Features"
   ]
  },
  {
   "cell_type": "code",
   "execution_count": 18,
   "metadata": {
    "scrolled": false
   },
   "outputs": [
    {
     "data": {
      "image/png": "[encoded data removed]",
      "text/plain": [
       "<Figure size 432x288 with 1 Axes>"
      ]
     },
     "metadata": {},
     "output_type": "display_data"
    }
   ],
   "source": [
    "plot_feature('Read Error Rate', st_df)"
   ]
  },
  {
   "cell_type": "markdown",
   "metadata": {},
   "source": [
    "This plot is an example to have no visual correlation between the failing of a drive and this S.M.A.R.T. value. It is not useful in our machine learning context. For most of the features, this is the case.\n",
    "\n",
    "* Preferred: Low Values\n",
    "* Not normalized between different hard drive vendor\n",
    "* Correlation to Fail by Wikipedia: No"
   ]
  },
  {
   "cell_type": "markdown",
   "metadata": {},
   "source": [
    "### Expected Correlation"
   ]
  },
  {
   "cell_type": "code",
   "execution_count": 20,
   "metadata": {
    "scrolled": false
   },
   "outputs": [
    {
     "data": {
      "image/png": "[encoded data removed]",
      "text/plain": [
       "<matplotlib.figure.Figure at 0x18e2afb21d0>"
      ]
     },
     "metadata": {},
     "output_type": "display_data"
    }
   ],
   "source": [
    "plot_feature('End-to-End error', st_df)"
   ]
  },
  {
   "cell_type": "markdown",
   "metadata": {},
   "source": [
    "For the feature `End-to-End error`, we have the same boxplot for failed and for running devices. This value should be the count of parity errors. Its also interisting that this value is normalized from 0 upto 1. The representation as \"error count\" is not obvious at this point from a user perspective. From this representation I can't see an possible correlation with a failing drive. \n",
    "\n",
    "* Preferred: Low\n",
    "* Correlation to Fail by Wikipedia: Yes"
   ]
  },
  {
   "cell_type": "markdown",
   "metadata": {},
   "source": [
    "### Correlations found"
   ]
  },
  {
   "cell_type": "code",
   "execution_count": 21,
   "metadata": {
    "scrolled": true
   },
   "outputs": [
    {
     "data": {
      "image/png": "[encoded data removed]",
      "text/plain": [
       "<matplotlib.figure.Figure at 0x18e70dd3c18>"
      ]
     },
     "metadata": {},
     "output_type": "display_data"
    }
   ],
   "source": [
    "plot_feature('Reported Uncorrectable Errors', st_df)"
   ]
  },
  {
   "cell_type": "markdown",
   "metadata": {},
   "source": [
    "One of the interisting features was `Reported Uncorrectable Errors` - this indeed looks very promising to be correlated to a hard drive fail, as the range of fail hard drives jumps upto 12 instead of being lower than 2.\n",
    "\n",
    "* Referred: Low\n",
    "* Correlation to Fail by Wikipedia: Yes\n",
    "* **Correlation to Fail by given plot: Yes**"
   ]
  },
  {
   "cell_type": "code",
   "execution_count": 34,
   "metadata": {
    "scrolled": true
   },
   "outputs": [
    {
     "data": {
      "image/png": "[encoded data removed]",
      "text/plain": [
       "<matplotlib.figure.Figure at 0x18e5b1f2ba8>"
      ]
     },
     "metadata": {},
     "output_type": "display_data"
    }
   ],
   "source": [
    "plot_feature('Current Pending Sector Count', st_df)"
   ]
  },
  {
   "cell_type": "markdown",
   "metadata": {},
   "source": [
    "The feature `Current Pending Sector Count` seems to be a possible feature for predictions. Values above approx. 80 are only present for failing drives. This feature indicates the amount of \"unstable\" sectors on the hard drive.\n",
    "\n",
    "* Preferred: Low\n",
    "* Correlation to Fail by Wikipedia: Yes\n",
    "* **Correlation to Fail by given plot: Yes**"
   ]
  },
  {
   "cell_type": "code",
   "execution_count": 35,
   "metadata": {
    "scrolled": true
   },
   "outputs": [
    {
     "data": {
      "image/png": "[encoded data removed]",
      "text/plain": [
       "<matplotlib.figure.Figure at 0x18ef10044a8>"
      ]
     },
     "metadata": {},
     "output_type": "display_data"
    }
   ],
   "source": [
    "plot_feature('(Offline) Uncorrectable Sector Count', st_df)"
   ]
  },
  {
   "cell_type": "markdown",
   "metadata": {},
   "source": [
    "This feature indicates the total count of uncorrectable errors while reading or writing. From the plot I assume a correlation between the fail of a hard drive and a value above approx. 80.\n",
    "\n",
    "* Preferred: Low\n",
    "* Correlation to Fail by Wikipedia: Yes\n",
    "* **Correlation to Fail by given plot: Yes**"
   ]
  },
  {
   "cell_type": "markdown",
   "metadata": {},
   "source": [
    "## Algorithms and Techniques\n",
    "\n",
    "So fare we have worked with more balanced data and tried several algorithms against this datasets. But for heavy unbalanced data, I have no clue what algorithm to choose, so lets just try a lot of them and compare the results against each other based on their fbeta score! I searched some classfiers that I could found in scikit-learn and use them:\n",
    "\n",
    "\n",
    "### SVC\n",
    "\n",
    "A Support Vecotor Machine create a initial random function. This function is than used to calculate the distance of each point in the dataset. For each class in the dataset, the algorithm tries to maximaize the distance to this point. The function is slightly ajusted after each iteration and again compared with the previous results. As better the separation is possible, as better SVC works.\n",
    "\n",
    "### Decision Trees\n",
    "\n",
    "[reference](https://medium.com/@chiragsehra42/decision-trees-explained-easily-28f23241248)\n",
    "\n",
    "Measuring the entroy to find a way to split the data and than reduce the amount of nodes to simlplity it and prevent an overfitting.\n",
    "\n",
    "### LinearSVC\n",
    "\n",
    "A Linear Support Vector Machine works the the genral svc, but only uses linear functions.\n",
    "\n",
    "### SGDClassifier\n",
    "\n",
    "generate a linear function. ask one point of the dataset, if the linear function line should move closer to the point or not. You can move the line by changing the parameters of the linear function. To measure the qualitiy we use a error function.\n",
    "\n",
    "###  NearestCentroid\n",
    "For each class calculate the mean of this data points. To generate a prediction, compare the distance to each center and return the shortest one.\n",
    "\n",
    "### Naive Bayes\n",
    "Caclulating that something is of kind \"a\" and calculating the probability that something is **not** of kind \"a\" - he higer value wins. The Naive approach is that the event of kind \"a\" is not related to any other event that is analysed.  Gaussian assumes that the total probability is distribibuted as a gaussian distribution.\n",
    "\n",
    "### AdaBoost\n",
    "AdaBoost used several instance of a algorithm, so called \"weak learner\". Each of this weak learners is doing a good job for a very small set of the data. This weak learners get each combined and boosted, according to their accuracy. The weak learners are often Decision Trees.\n",
    "\n",
    "and boosts each result of this algorithm to even better fit the  data and improve the overall result.\n",
    "\n",
    "### Random Forest\n",
    "Instead of calculating one Decision Tree, Random Forest generates several Trees and all decide by themself. The majority of the outcomes by each Tree returns the final outcome by the tree.\n",
    "\n",
    "### Multilayer Perceptron\n",
    "A Perceptron is a adaption of a neuron inside human brains. A signal (data) goes in and a signal gets returned and transferred to another perceptron. The signal can be either reduced or increased, depending on the activision function of the perceptron. Perceptrons are organized in layers. Depending of the amount of layers, as more complex mathematical problems can be solved by the layers.\n",
    "\n",
    "Each perceptron is initialized by a random value at the beginning. The first signal gets transferred over each layer. After finishing at the end, the weights of each connection gets updated (called backpropagation) to improve the accuracy of the network. Then the next signal passes and the process of backpropagation is repeated. The amount of repeating this process is one of the Hyperparameters of the Algorithm.\n",
    "\n",
    "Most of this algorithms where run with their default settings. A different set of parameters could improve their results, but I wanted to have some all more or less good comparable based on their default settings.\n",
    "\n",
    "I also tried a `Keras` neuronal network, `LightGBM` and `XGBoost` to even extend the amount of algorithms that are compared. For the last 3 algorithms I used a train, test and validation set. The validation set was used by the algorithm to improve. All tests sets where run after the model was generated to calculate the fbeta score.\n",
    "\n"
   ]
  },
  {
   "cell_type": "markdown",
   "metadata": {},
   "source": [
    "## Benchmark\n",
    "Googles(Eduardo Pinheiro et al.) results are as follows (link provided above, summary see wikipedia link):\n",
    "\n",
    "* 60 days after finding uncorrectable errors (S.M.A.R.T. Value 198), the drive had 39 times higher change to fail\n",
    "First errors in S.M.A.R.T. 196 (Relocation) and 5 (offline Relocation) are strongly correlated to higher probabilities of failure\n",
    "* 56% of the drives failed without recording any count in the four string S.M.A.R.T. Warnings (Scan Errors, Relocation Count, offline Relocation and probiatinal Count)\n",
    "* 36% Failed without any S.M.A.R.T. error at all\n",
    "\n",
    "This lets me create the benchmark model as following:\n",
    "The total amount of fails is 1.84% for all drives. \n",
    "This 1.84% can now be splitted into three groups, provided using the google paper:\n",
    "\n",
    "Fails without errors: $1.84 \\cdot 0.36 = 0.6624 %%$\n",
    "\n",
    "Fails with any smart warning: $1.84 \\cdot 0.56 = 1.0304 %$\n",
    "\n",
    "Fails that could be predicted: $1.84 \\cdot (1 - 0.36 - 0.56) = 0.8 %$ \n",
    "\n",
    "The Benchmark model, using random choice, predict with a change of 0.8% that a drive will fail. Each model have different chance to fail, this means that the 0.8 % is the average probability over every model in the dataset."
   ]
  },
  {
   "cell_type": "markdown",
   "metadata": {},
   "source": [
    "# Methodology\n",
    "## Data Preprocessing\n"
   ]
  },
  {
   "cell_type": "markdown",
   "metadata": {},
   "source": [
    "Now we prepare the current directories that we will use. \n",
    "* raw - contains the raw zip files, downloaded from backblaze\n",
    "* drives - contains a csv file for each hard drive model\n",
    "* train - contains the training set for each hard drive model as csv\n",
    "* test - contains the test set for each hard drive model as csv\n",
    "* validate - contains the validation set for each hard drive model as csv\n",
    "* tmp - temp directory for splitting and normalization\n",
    "* drives_minified - removed every non relevant data and feature from a given hard drive\n",
    "* sklearn_models - containing models and results of sklearn algorithms\n",
    "* keras_models - containing models and results for keras\n",
    "* xgboost_models - containing models and results for xgboost\n",
    "* lightgbm_models - containing models and results for lightgbm\n",
    "\n",
    "When using the preprocessed data referenced in the README.md, some of this directories will already exist."
   ]
  },
  {
   "cell_type": "markdown",
   "metadata": {},
   "source": [
    "### Downloading and Unpacking and path fixing"
   ]
  },
  {
   "cell_type": "code",
   "execution_count": 9,
   "metadata": {},
   "outputs": [
    {
     "name": "stderr",
     "output_type": "stream",
     "text": [
      "100%|██████████| 13/13 [00:00<00:00, 1625.51it/s]\n"
     ]
    }
   ],
   "source": [
    "preprocessing = Preprocessing()\n",
    "preprocessing.download()"
   ]
  },
  {
   "cell_type": "code",
   "execution_count": 29,
   "metadata": {},
   "outputs": [
    {
     "name": "stderr",
     "output_type": "stream",
     "text": [
      "100%|██████████| 13/13 [00:00<00:00, 8670.05it/s]\n"
     ]
    }
   ],
   "source": [
    "preprocessing.unpack()"
   ]
  },
  {
   "cell_type": "code",
   "execution_count": 31,
   "metadata": {},
   "outputs": [],
   "source": [
    "preprocessing.rename() # To make sure each directory extracted have a normalized name"
   ]
  },
  {
   "cell_type": "markdown",
   "metadata": {},
   "source": [
    "### Normalization\n",
    "backblaze regularly add new S.M.A.R.T. values to their generated ouput. The new values are provided somewhere in \"between\" of existing values. The header of each files is:\n",
    "* date - date the drive information was recorded\n",
    "* serial numer of the drive\n",
    "* the model\n",
    "* the capacity\n",
    "* the failure indicator\n",
    "* then for each smart value the normalized and the raw value\n",
    "\n",
    "The S.M.A.R.T. values are always in a increasing order upto 255. Adding new S.M.R.A.R.T columns, means adding them inbetween the existing ones. Reading the entire dataset is not possible, as the amount of memory required for this operation hits the 32 GB limit. Instead, the normalization have to be done directly on the files without reading everything at once.\n",
    "\n",
    "I created two methods: `extract_smart_values` and `fill_content`.\n",
    "`extract_smart_values` returns a map of an a colum to a appropriate smart value. Using this map, I can now add \"blanks\" to the dataset, to make sure that every file afterwords, have the same structure. I use `fill_content` for this approach. Both where moved to the [helper.py](helper.py) to reduce the amount of code inside this notebook a bit."
   ]
  },
  {
   "cell_type": "markdown",
   "metadata": {},
   "source": [
    "### Splitting by drive model\n",
    "Some S.M.A.R.T. values are manufacture specific (see wikipedia article), you can't compare them between different manufacture. Sometimes the same value can have a different meaning and finally some models inside a manufacture can be add or removed comparing to different models. This forces us to split the entire dataset by hard drive type. As we have to go over several GB of csv data, this process takes over 1h on my device... "
   ]
  },
  {
   "cell_type": "code",
   "execution_count": null,
   "metadata": {},
   "outputs": [],
   "source": [
    "preprocessing.split_by_drive()"
   ]
  },
  {
   "cell_type": "markdown",
   "metadata": {},
   "source": [
    "When everything went well, we can now move the files to the destination target"
   ]
  },
  {
   "cell_type": "code",
   "execution_count": null,
   "metadata": {},
   "outputs": [],
   "source": [
    "preprocessing.split_by_drive_move()"
   ]
  },
  {
   "cell_type": "markdown",
   "metadata": {},
   "source": [
    "unfortunately the data is now very huge and not all models could be read into ram after the splitting and calculating the models, so I had again to now transformn the data in a minified version, removing the before created empty spaces to reduce the file size - but now the data is consistent in each column."
   ]
  },
  {
   "cell_type": "markdown",
   "metadata": {},
   "source": [
    "Now triggering the minification, took 6h on my device."
   ]
  },
  {
   "cell_type": "code",
   "execution_count": 16,
   "metadata": {
    "scrolled": true
   },
   "outputs": [
    {
     "name": "stderr",
     "output_type": "stream",
     "text": [
      "100%|██████████| 107/107 [5:56:57<00:00, 200.16s/it]   \n"
     ]
    },
    {
     "name": "stdout",
     "output_type": "stream",
     "text": [
      "done\n"
     ]
    }
   ],
   "source": [
    "total_files = glob.glob(os.path.join('drives','*.csv'))\n",
    "with tqdm(total=len(total_files)) as pbar:\n",
    "    for file in total_files:\n",
    "        preprocessing.minify(file)\n",
    "        pbar.update(1)\n",
    "print('done')"
   ]
  },
  {
   "cell_type": "markdown",
   "metadata": {},
   "source": [
    "For a non failure, its ok to split the data randomly. But for failed drives, I really want to make sure to have an equal distribution over the entire dataset. Before we calculate the amount of failed drives for each model, and than split them according to the failure. \n",
    "\n",
    "If we have  a failed drive, we fist move the drives to the train dataset and reduce the total amount of drives we need for it. When the train set is \"full\", we add them to the test set and finally later add them to the validation set. this makes sure that we have a equal distribution of failed drives in every set. Otherwise, their can be a chance that we have no drive inside the train, test or validation group as we are dealing with a heavely unbalanced dataset."
   ]
  },
  {
   "cell_type": "code",
   "execution_count": 10,
   "metadata": {
    "scrolled": true
   },
   "outputs": [],
   "source": [
    "if not os.path.exists('qualified.csv'):\n",
    "    all_drives = glob.glob(os.path.join('drives_minified', '*.csv'))\n",
    "    drive_metrics = Parallel(n_jobs=-1, backend=\"multiprocessing\", verbose=1)(delayed(preprocessing.drive_metrics)(file) for file in all_drives)\n",
    "    qualified_df = pd.DataFrame(drive_metrics)\n",
    "    # Only include drives that have at least 3 failure records.\n",
    "    qualified_df = qualified_df[qualified_df['failure'] >= 3]\n",
    "    # Sort by lines, as small files are less compuation heavy and the long running tasks can run over night \n",
    "    #- but debugging can be done in faster iterations\n",
    "    qualified_df.sort_values(by='lines', inplace=True)\n",
    "    qualified_df.to_csv('qualified.csv', index=False)"
   ]
  },
  {
   "cell_type": "markdown",
   "metadata": {},
   "source": [
    "As now the data is splitted, we have to make sure that the appropriate drives always include some fail drives, otherwise we can't do any training. Took after the minification only several minutes. Before the minification implemented, this took 20 minutes."
   ]
  },
  {
   "cell_type": "markdown",
   "metadata": {},
   "source": [
    "### Splitting by Train, Test and Validation Set"
   ]
  },
  {
   "cell_type": "markdown",
   "metadata": {},
   "source": [
    "The following table now shows all our drives that we take a closer look at. As even more challenging, I also included drives that only have a small amount of fails. I assume as more failure are in general present, the more easy it is for an algorithm to generate a prediction for. We will take a look at it!"
   ]
  },
  {
   "cell_type": "markdown",
   "metadata": {},
   "source": [
    "With the `final_split` function, we will now split the extracted models into a train, test and validation set according to the calculations we made before. As the extracted fail rate can be very slow, I use the previously calculated train, test and validation counts to make sure that they are present in the appropriate set and not get \"randomly\" moved to a different set."
   ]
  },
  {
   "cell_type": "code",
   "execution_count": 21,
   "metadata": {},
   "outputs": [
    {
     "name": "stderr",
     "output_type": "stream",
     "text": [
      "100%|██████████| 60/60 [07:24<00:00,  7.41s/it]  \n"
     ]
    },
    {
     "name": "stdout",
     "output_type": "stream",
     "text": [
      "done\n"
     ]
    }
   ],
   "source": [
    "# Run this sequencially, as I got corrupted data otherwise :-|\n",
    "with tqdm(total=len(qualified_df)) as pbar:\n",
    "    for _i, row in qualified_df.iterrows():\n",
    "        preprocessing.final_split(row)\n",
    "        pbar.update(1)\n",
    "\n",
    "print('done')"
   ]
  },
  {
   "cell_type": "markdown",
   "metadata": {},
   "source": [
    "## Implementation"
   ]
  },
  {
   "cell_type": "markdown",
   "metadata": {},
   "source": [
    "After finally doing sucessfully the preprocessing, we can now start to run the algorithms. For a more detail implementation, see [algorithm_runner.py](algorithm_runner.py)."
   ]
  },
  {
   "cell_type": "markdown",
   "metadata": {},
   "source": [
    "### `FakeAlgorithm`\n",
    "FakeAlgorithm is our benchmark algorithm that we need as a reference to compare against. "
   ]
  },
  {
   "cell_type": "code",
   "execution_count": 2,
   "metadata": {},
   "outputs": [],
   "source": [
    "class FakeAlgorithm:\n",
    "    def fit(self, X, y):\n",
    "        # Nothing to calculate\n",
    "        return self\n",
    "    \n",
    "    def predict(self, X):\n",
    "        \"\"\"\n",
    "        X - feature matrix to generate predictions for.\n",
    "        returns a list with 0 and 1 for each row in the feature matrix.\n",
    "        \"\"\"\n",
    "        y_pred = []\n",
    "        for i in range(len(X)):\n",
    "            y_pred.append(int(random.random() <= 0.08))\n",
    "        return y_pred\n"
   ]
  },
  {
   "cell_type": "markdown",
   "metadata": {},
   "source": [
    "### sklearn"
   ]
  },
  {
   "cell_type": "code",
   "execution_count": 3,
   "metadata": {},
   "outputs": [],
   "source": [
    "from sklearn.tree import DecisionTreeClassifier\n",
    "from sklearn.svm import LinearSVC, SVC\n",
    "from sklearn.linear_model.stochastic_gradient import SGDClassifier\n",
    "from sklearn.neighbors.nearest_centroid import NearestCentroid\n",
    "from sklearn.naive_bayes import GaussianNB\n",
    "from sklearn.ensemble.weight_boosting import AdaBoostClassifier\n",
    "from sklearn.ensemble.forest import RandomForestClassifier\n",
    "from sklearn.neural_network.multilayer_perceptron import MLPClassifier\n",
    "from sklearn.naive_bayes import GaussianNB"
   ]
  },
  {
   "cell_type": "markdown",
   "metadata": {},
   "source": [
    "### `DecisionTreeClassifier` [doc](http://scikit-learn.org/stable/modules/generated/sklearn.tree.DecisionTreeClassifier.html#sklearn.tree.DecisionTreeClassifier)\n",
    "`DecisionTreeClassifier` builds up a tree of decisions. Hyperparamers are `max_depth`, reflecting the level that the tree can get (default to no limit), `min_samples_leaf ` reflect the number of minimal samples that should be inside a node (defaults to 1)\n",
    "\n",
    "\n",
    "###  `LinearSVC` [doc](http://scikit-learn.org/stable/modules/generated/sklearn.svm.LinearSVC.html#sklearn.svm.LinearSVC)\n",
    "`LinearSVC` \"Similar to SVC with parameter kernel=’linear\" -   hyperparameters: `tol` as the value for  the stopping criteria (defaults to 1e-4)and `max_iter ` the amount of iterations to run the algorithm.\n",
    "\n",
    "### `SGDClassifier` [doc](http://scikit-learn.org/stable/modules/generated/sklearn.linear_model.SGDClassifier.html#sklearn.linear_model.SGDClassifier)\n",
    "`SGDClassifier` stochastic gradient descent. Hyperparameters: `tol` as the stop criterion. Set to 1-e3 as the new default value for sklearn 0.21. `max_iter` is the amount of iterations the algorithm should run.\n",
    "\n",
    "### `NearestCentroid` [doc](http://scikit-learn.org/stable/modules/generated/sklearn.neighbors.NearestCentroid.html#sklearn.neighbors.NearestCentroid)\n",
    "\n",
    "\"Each class is represented by its centroid, with test samples classified to the class with the nearest centroid.\" \n",
    "\n",
    "### `GaussianNB` [doc](http://scikit-learn.org/stable/modules/generated/sklearn.naive_bayes.GaussianNB.html#sklearn.naive_bayes.GaussianNB)\n",
    "\n",
    "\"Naive Bayes methods are a set of supervised learning algorithms based on applying Bayes’ theorem with the “naive” assumption of independence between every pair of features.\" - I choosed the `GaussianNB` as it seems to be the most used one. No Hyperparameters are present.\n",
    "\n",
    "### `AdaBoostClassifier` [doc](http://scikit-learn.org/stable/modules/generated/sklearn.ensemble.AdaBoostClassifier.html#sklearn.ensemble.AdaBoostClassifier)\n",
    "\n",
    "The Hyperparameters are `base_estimator`, thats the base algorithm to use the number of instances reflected by `n_estimators` (default 50)  and the `learning_rate` (default 1.0)\n",
    "\n",
    "### `RandomForestClassifier` [doc](http://scikit-learn.org/stable/modules/generated/sklearn.ensemble.RandomForestClassifier.html#sklearn.ensemble.RandomForestClassifier)\n",
    "\n",
    "\"A random forest is a meta estimator that fits a number of decision tree classifiers on various sub-samples of the dataset and use averaging to improve the predictive accuracy and control over-fitting.\" Compared to `AdaBoostClassifier`, no boosting is used. The Hyperparameters are `n_estimators` (default 10) and the number of levels to go deep with `max_depth`\n",
    "\n",
    "### `MLPClassifier` [doc](http://scikit-learn.org/stable/modules/generated/sklearn.neural_network.MLPClassifier.html#sklearn.neural_network.MLPClassifier)\n",
    "\n",
    "`MLPClassifier` implements a Perceptron Classifier with 100 Hidden Layers described by `hidden_layer_sizes` "
   ]
  },
  {
   "cell_type": "code",
   "execution_count": 5,
   "metadata": {},
   "outputs": [],
   "source": [
    "clfs = [\n",
    "    FakeAlgorithm(),\n",
    "    DecisionTreeClassifier(),\n",
    "    LinearSVC(),\n",
    "    SGDClassifier(max_iter=1000, tol=1e-3), # defaults in sklearn 0.21\n",
    "    NearestCentroid(),\n",
    "    GaussianNB(),\n",
    "    AdaBoostClassifier(n_estimators=100),\n",
    "    RandomForestClassifier(n_estimators=100, n_jobs=-1),\n",
    "    MLPClassifier()\n",
    "]"
   ]
  },
  {
   "cell_type": "markdown",
   "metadata": {},
   "source": [
    "Running all of the relevant sklearn algorithms:"
   ]
  },
  {
   "cell_type": "code",
   "execution_count": 5,
   "metadata": {},
   "outputs": [],
   "source": [
    "qualified_df = pd.read_csv('qualified.csv')\n",
    "\n",
    "clf_results = []"
   ]
  },
  {
   "cell_type": "code",
   "execution_count": 6,
   "metadata": {},
   "outputs": [
    {
     "name": "stderr",
     "output_type": "stream",
     "text": [
      "ST4000DM000.csv: 100%|██████████| 60/60 [04:19<00:00, 31.57s/it]            \n"
     ]
    }
   ],
   "source": [
    "with tqdm(total=len(qualified_df)) as pbar:\n",
    "    for _i, row in qualified_df.iterrows():\n",
    "\n",
    "        drive_csv = row['drive_csv']\n",
    "        lines = row['lines']\n",
    "        try:\n",
    "            pbar.set_description(drive_csv)\n",
    "            \n",
    "            # I don't use prepare_parallel, as the validation set is not needed and memory is everything...\n",
    "            (X_train, y_train) =  AlgorithmRunner.prepare_train(drive_csv)\n",
    "            (X_test, y_test) = AlgorithmRunner.prepare_test(drive_csv)\n",
    "            \n",
    "            # For the biggeest drive model, not run all algorithms in parallel to prevent out of memory errors.\n",
    "            # Also only using some algorithms, as the runtime is just to huge even after runnning over night :-(\n",
    "            if lines > 20000000:\n",
    "                for clf in [FakeAlgorithm(), GaussianNB(), NearestCentroid()]:\n",
    "                    result = AlgorithmRunner.run_parallel(clf, drive_csv, X_train, y_train, X_test, y_test)\n",
    "                    clf_results.append(result)\n",
    "            else: \n",
    "                # Run all algorithms in parallel with shared memory to have low memory overhead - its getting warm now :-D\n",
    "                parallel_results = Parallel(n_jobs=-1, backend=\"threading\")(delayed(AlgorithmRunner.run_parallel)(clf, drive_csv, X_train, y_train, X_test, y_test) for clf in clfs)\n",
    "                for result in parallel_results:\n",
    "                    clf_results.append(result)\n",
    "\n",
    "        except Exception as err:\n",
    "            print(\"error {} in: {}\".format(drive_csv, err))\n",
    "        pbar.update(1)"
   ]
  },
  {
   "cell_type": "markdown",
   "metadata": {},
   "source": [
    "### `SVC` [doc](http://scikit-learn.org/stable/modules/svm.html#svm-kernels)\n",
    "`SVC` Support Vector Classifier tries to maximize the distance between (in our case 2) classes. This separation line is called hyperplane. At least `C` and the `kernel` should be mentioned here as hyperparameters. `C` that is the penalty parameter for the error term and the `kernel` to be choosen. `C` defaults to 1.0 and `kernel` to `rbf`. Running SVC only for all models as this seems to be the most computing intensive algorithm - running over the night. Please note that SVC works not that good for non normalized data, so the expected results should be not that good.\n"
   ]
  },
  {
   "cell_type": "code",
   "execution_count": 85,
   "metadata": {},
   "outputs": [
    {
     "name": "stderr",
     "output_type": "stream",
     "text": [
      "SVC for ST4000DM000.csv: 100%|██████████| 60/60 [00:02<00:00, 28.11it/s]            \n"
     ]
    }
   ],
   "source": [
    "with tqdm(total=len(qualified_df)) as pbar:\n",
    "    for _i, row in qualified_df.iterrows():\n",
    "\n",
    "        drive_csv = row['drive_csv']\n",
    "        lines = row['lines']\n",
    "        try:\n",
    "            pbar.set_description('SVC for {}'.format(drive_csv))\n",
    "            # Again the calculation time is to high, skipping...\n",
    "            if lines < 50000:\n",
    "                (X_train, y_train) = prepare_train(drive_csv)\n",
    "                (X_test, y_test) = prepare_test(drive_csv)\n",
    "                result = AlgorithmRunner.run_parallel(SVC(), drive_csv, X_train, y_train, X_test, y_test)\n",
    "                clf_results.append(result)\n",
    "\n",
    "        except Exception as err:\n",
    "            print(\"error {} in: {}\".format(drive_csv, err))\n",
    "        pbar.update(1)"
   ]
  },
  {
   "cell_type": "code",
   "execution_count": 88,
   "metadata": {},
   "outputs": [],
   "source": [
    "if not os.path.exists('results.csv'):\n",
    "    results_df = pd.DataFrame(list(clf_results))\n",
    "    results_df.to_csv('results.csv', index=False)"
   ]
  },
  {
   "cell_type": "markdown",
   "metadata": {},
   "source": [
    "### Keras\n",
    "Keras is a framwork implementing an abstract layer for several neuronal network / perceptron \"backends\" - I assumed that is should perform better than the `MLPClassifier` from sklearn. I used the tensorflow backend. For Keras I used a more explicit architecture: The amount of each layer is reduced by 10% of the total amount of features to have a smoth lowering of the amount of layers, stopping at 2 features to add a final Dense 1 layer with the sigmoid function. All other hidden layers use the relu function. For more Details, see [kerasalgorithm.py]([kerasalgorithm.py]). This algorithm is using a validation set to for a direct improvement / feedback."
   ]
  },
  {
   "cell_type": "code",
   "execution_count": 15,
   "metadata": {},
   "outputs": [
    {
     "name": "stderr",
     "output_type": "stream",
     "text": [
      "KerasAlgorithm for ST4000DM000.csv: 100%|██████████| 60/60 [03:37<00:00, 27.51s/it]            \n"
     ]
    }
   ],
   "source": [
    "from keras import backend as K\n",
    "\n",
    "qualified_df = pd.read_csv('qualified.csv')\n",
    "keras_results = []\n",
    "with tqdm(total=len(qualified_df)) as pbar:\n",
    "    for _i, row in qualified_df.iterrows():\n",
    "\n",
    "        drive_csv = row['drive_csv']\n",
    "        lines = row['lines']\n",
    "        try:\n",
    "            # Special case for keras: we need to pass the drive_csv name to create a valid checkpoint file path\n",
    "            clf = KerasAlgorithm(drive_csv)\n",
    "            pbar.set_description('{} for {}'.format(clf.__class__.__name__, drive_csv))\n",
    "            (X_train, y_train, X_test, y_test, X_valid, y_valid) =  AlgorithmRunner.prepare_parallel(drive_csv)\n",
    "            result =  AlgorithmRunner.run_parallel(clf, drive_csv, X_train, y_train, X_test, y_test, X_valid, y_valid)\n",
    "            keras_results.append(result)\n",
    "            K.clear_session()\n",
    "\n",
    "        except Exception as err:\n",
    "            print(\"error {} in: {}\".format(drive_csv, err))\n",
    "\n",
    "        pbar.update(1)"
   ]
  },
  {
   "cell_type": "code",
   "execution_count": 90,
   "metadata": {},
   "outputs": [],
   "source": [
    "if not os.path.exists('results_keras.csv'):\n",
    "    results_df_keras = pd.DataFrame(keras_results)\n",
    "    results_df_keras.to_csv('results_keras.csv', index=False)\n",
    "results_df_keras = pd.read_csv('results_keras.csv')"
   ]
  },
  {
   "cell_type": "markdown",
   "metadata": {},
   "source": [
    "### XGBoost\n",
    "The XGBoost Framework implements a gradient boosting algorithm. I can be compared to [Adaboost](#AdaBoostClassifier-doc). To  be able to compare XGBoost with lightgbm, also a boosting algorithm, I set the `max_depth` Hyperparameter to 30, the learning rate `eta` to `0.01` and as `objective` used `binagry:logistic`. I also used a validation set for this Algorithm.  "
   ]
  },
  {
   "cell_type": "code",
   "execution_count": 6,
   "metadata": {},
   "outputs": [
    {
     "name": "stderr",
     "output_type": "stream",
     "text": [
      "XGBoostGbtreeAlgorithm for ST4000DM000.csv: 100%|██████████| 60/60 [03:40<00:00, 27.89s/it]            \n"
     ]
    }
   ],
   "source": [
    "qualified_df = pd.read_csv('qualified.csv')\n",
    "xgboost_results = []\n",
    "with tqdm(total=len(qualified_df)) as pbar:\n",
    "    for _i, row in qualified_df.iterrows():\n",
    "\n",
    "        drive_csv = row['drive_csv']\n",
    "        lines = row['lines']\n",
    "        try:\n",
    "            clf = XGBoostGbtreeAlgorithm()\n",
    "            pbar.set_description('{} for {}'.format(clf.__class__.__name__, drive_csv))\n",
    "\n",
    "            (X_train, y_train, X_test, y_test, X_valid, y_valid) =  AlgorithmRunner.prepare_parallel(drive_csv)\n",
    "            result =  AlgorithmRunner.run_parallel(clf, drive_csv, X_train, y_train, X_test, y_test, X_valid, y_valid)\n",
    "            xgboost_results.append(result)\n",
    "\n",
    "        except Exception as err:\n",
    "            print(\"error {} in: {}\".format(drive_csv, err))\n",
    "        pbar.update(1)\n"
   ]
  },
  {
   "cell_type": "code",
   "execution_count": 93,
   "metadata": {},
   "outputs": [],
   "source": [
    "if not os.path.exists('results_xgboost.csv'):\n",
    "    results_df_xgboost = pd.DataFrame(xgboost_results)\n",
    "    results_df_xgboost.to_csv('results_xgboost.csv', index=False)\n",
    "results_df_xgboost = pd.read_csv('results_xgboost.csv')"
   ]
  },
  {
   "cell_type": "markdown",
   "metadata": {},
   "source": [
    "### LightGBM [Code Idea](https://github.com/Microsoft/LightGBM/blob/master/examples/python-guide/simple_example.py)\n",
    "Another Framework containing several boposting algorithms. I used the **G**radient **B**oosting **D**ecision **T**ree as boosting type. Again this is close to [Adaboost](#AdaBoostClassifier-doc). I choosed the same `learning_rate` as for XGboost of 0.01 with a `objective` of `binary`. The validation set was used."
   ]
  },
  {
   "cell_type": "code",
   "execution_count": 2,
   "metadata": {},
   "outputs": [
    {
     "name": "stderr",
     "output_type": "stream",
     "text": [
      "LightGBMAlgorithm for ST4000DM000.csv: 100%|██████████| 60/60 [03:44<00:00, 28.69s/it]            \n"
     ]
    }
   ],
   "source": [
    "qualified_df = pd.read_csv('qualified.csv')\n",
    "total_items = len(qualified_df)\n",
    "lightgbm_results = []\n",
    "with tqdm(total=total_items) as pbar:\n",
    "    for _i, row in qualified_df.iterrows():\n",
    "\n",
    "        drive_csv = row['drive_csv']\n",
    "        lines = row['lines']\n",
    "        try:\n",
    "            clf = LightGBMAlgorithm()\n",
    "            pbar.set_description('{} for {}'.format(clf.__class__.__name__, drive_csv))\n",
    "\n",
    "            (X_train, y_train, X_test, y_test, X_valid, y_valid) =  AlgorithmRunner.prepare_parallel(drive_csv)\n",
    "            result =  AlgorithmRunner.run_parallel(clf, drive_csv, X_train, y_train, X_test, y_test, X_valid, y_valid)\n",
    "            lightgbm_results.append(result)\n",
    "\n",
    "        except Exception as err:\n",
    "            print(\"error {} in: {}\".format(drive_csv, err))\n",
    "        pbar.update(1)"
   ]
  },
  {
   "cell_type": "code",
   "execution_count": 96,
   "metadata": {},
   "outputs": [],
   "source": [
    "if not os.path.exists('results_lightgbm.csv'):\n",
    "    results_df_lightgbm = pd.DataFrame(lightgbm_results)\n",
    "    results_df_lightgbm.to_csv('results_lightgbm.csv', index=False)\n",
    "results_df_lightgbm = pd.read_csv('results_lightgbm.csv')"
   ]
  },
  {
   "cell_type": "code",
   "execution_count": 7,
   "metadata": {},
   "outputs": [],
   "source": [
    "merged_result = Winner.calculate()"
   ]
  },
  {
   "cell_type": "markdown",
   "metadata": {},
   "source": [
    "## Refinement\n",
    " \n",
    "As different algorithms have won, I choose the drives where the `DecisionTreeClassifier` is the winner to further improve them:"
   ]
  },
  {
   "cell_type": "code",
   "execution_count": 2,
   "metadata": {},
   "outputs": [
    {
     "name": "stderr",
     "output_type": "stream",
     "text": [
      "WDC WD800AAJS.csv: 100%|██████████| 12/12 [24:40<00:00, 213.64s/it]\n"
     ]
    }
   ],
   "source": [
    "merged_result = Winner.calculate()\n",
    "all_drives = list(merged_result[merged_result['winner'] == 'DecisionTreeClassifier']['drive_csv'])\n",
    "\n",
    "if not os.path.exists('grid_search.csv'):\n",
    "    grid_search = []\n",
    "    with tqdm(total=len(all_drives)) as pbar:\n",
    "        for drive_csv in all_drives:\n",
    "            pbar.set_description(drive_csv)\n",
    "            grid_search.append(SearchWithGrid.run(drive_csv))\n",
    "            pbar.update(1)\n",
    "    SearchWithGrid.calculate_best(grid_search)  "
   ]
  },
  {
   "cell_type": "markdown",
   "metadata": {},
   "source": [
    "For the initial fbeta score, the default parameters where used:\n",
    "* criterion=\"gini\"\n",
    "* splitter='best'\n",
    "* max_depth=None\n",
    "* min_samples_split=2\n",
    "\n",
    "for the new fbeta score, max_depth of None also returned the best results. The new fbeta score was rounded.\n",
    "\n",
    "|drive|fbetascore initial|fbetascore grid search|criterion|splitter|min_samples_split|\n",
    "|---|---|\n",
    "|ST4000DM005.csv|0.499613|0.499613|gini|best|2\n",
    "|ST4000DM001.csv| 0.499845|0.499897|gini|best|2\n",
    "|ST3160318AS.csv|0.499849|0.499849|gini|best|2\n",
    "|WDC WD20EFRX.csv| 0.499889|0.49993|gini|random|2\n",
    "|ST250LM004 HN.csv|0.499895|0.499895|gini|best|2\n",
    "|ST9250315AS.csv|0.499911|0.499911|gini|best|4\n",
    "|ST32000542AS.csv|0.499916|0.499916|gini|best|2\n",
    "|ST3160316AS.csv|0.499922|0.499922|gini|best|2\n",
    "|ST31500541AS.csv|0.528457|0.543369|entropy|best|3\n",
    "|ST8000DM002.csv|0.566657|0.607134|gini|random|5\n",
    "|WDC WD60EFRX.csv|0.611081|0.681788|gini|best|2\n",
    "|WDC WD800AAJS.csv|1.0|1.0|gini|best|3"
   ]
  },
  {
   "cell_type": "markdown",
   "metadata": {},
   "source": [
    "# Results\n",
    "## Model Evaluation and Validation\n"
   ]
  },
  {
   "cell_type": "code",
   "execution_count": 6,
   "metadata": {
    "scrolled": true
   },
   "outputs": [
    {
     "data": {
      "text/plain": [
       "0.4791606315695175"
      ]
     },
     "execution_count": 6,
     "metadata": {},
     "output_type": "execute_result"
    }
   ],
   "source": [
    "merged_result = Winner.calculate()\n",
    "np.mean(merged_result['FakeAlgorithm'])"
   ]
  },
  {
   "cell_type": "code",
   "execution_count": 3,
   "metadata": {
    "scrolled": true
   },
   "outputs": [],
   "source": [
    "validation_results = Validation.run_all()"
   ]
  },
  {
   "cell_type": "markdown",
   "metadata": {},
   "source": [
    "Taking a look a t the variance of the fbeta score over 6 runs of a kfold cross validation:"
   ]
  },
  {
   "cell_type": "code",
   "execution_count": 4,
   "metadata": {},
   "outputs": [
    {
     "data": {
      "text/html": [
       "<div>\n",
       "<style scoped>\n",
       "    .dataframe tbody tr th:only-of-type {\n",
       "        vertical-align: middle;\n",
       "    }\n",
       "\n",
       "    .dataframe tbody tr th {\n",
       "        vertical-align: top;\n",
       "    }\n",
       "\n",
       "    .dataframe thead th {\n",
       "        text-align: right;\n",
       "    }\n",
       "</style>\n",
       "<table border=\"1\" class=\"dataframe\">\n",
       "  <thead>\n",
       "    <tr style=\"text-align: right;\">\n",
       "      <th></th>\n",
       "      <th>DecisionTreeClassifier</th>\n",
       "      <th>FakeAlgorithm</th>\n",
       "      <th>drive_csv</th>\n",
       "      <th>winner_f_beta</th>\n",
       "      <th>maximal_fbeta</th>\n",
       "      <th>mean_fbeta</th>\n",
       "      <th>minimal_fbeta</th>\n",
       "    </tr>\n",
       "  </thead>\n",
       "  <tbody>\n",
       "    <tr>\n",
       "      <th>0</th>\n",
       "      <td>0.499613</td>\n",
       "      <td>0.476075</td>\n",
       "      <td>ST4000DM005.csv</td>\n",
       "      <td>0.499613</td>\n",
       "      <td>0.000000</td>\n",
       "      <td>0.000000</td>\n",
       "      <td>0.000000</td>\n",
       "    </tr>\n",
       "    <tr>\n",
       "      <th>1</th>\n",
       "      <td>0.499845</td>\n",
       "      <td>0.480548</td>\n",
       "      <td>ST4000DM001.csv</td>\n",
       "      <td>0.499845</td>\n",
       "      <td>0.049977</td>\n",
       "      <td>0.049977</td>\n",
       "      <td>0.049977</td>\n",
       "    </tr>\n",
       "    <tr>\n",
       "      <th>2</th>\n",
       "      <td>0.499849</td>\n",
       "      <td>0.479243</td>\n",
       "      <td>ST3160318AS.csv</td>\n",
       "      <td>0.499849</td>\n",
       "      <td>0.257868</td>\n",
       "      <td>0.249474</td>\n",
       "      <td>0.207874</td>\n",
       "    </tr>\n",
       "    <tr>\n",
       "      <th>3</th>\n",
       "      <td>0.499889</td>\n",
       "      <td>0.479679</td>\n",
       "      <td>WDC WD20EFRX.csv</td>\n",
       "      <td>0.499889</td>\n",
       "      <td>0.149917</td>\n",
       "      <td>0.116601</td>\n",
       "      <td>0.049986</td>\n",
       "    </tr>\n",
       "    <tr>\n",
       "      <th>4</th>\n",
       "      <td>0.499895</td>\n",
       "      <td>0.478194</td>\n",
       "      <td>ST250LM004 HN.csv</td>\n",
       "      <td>0.499895</td>\n",
       "      <td>0.149615</td>\n",
       "      <td>0.074843</td>\n",
       "      <td>0.049752</td>\n",
       "    </tr>\n",
       "    <tr>\n",
       "      <th>5</th>\n",
       "      <td>0.499911</td>\n",
       "      <td>0.480173</td>\n",
       "      <td>ST9250315AS.csv</td>\n",
       "      <td>0.499911</td>\n",
       "      <td>0.201165</td>\n",
       "      <td>0.183787</td>\n",
       "      <td>0.151217</td>\n",
       "    </tr>\n",
       "    <tr>\n",
       "      <th>6</th>\n",
       "      <td>0.499916</td>\n",
       "      <td>0.479727</td>\n",
       "      <td>ST32000542AS.csv</td>\n",
       "      <td>0.499916</td>\n",
       "      <td>0.382598</td>\n",
       "      <td>0.380919</td>\n",
       "      <td>0.377590</td>\n",
       "    </tr>\n",
       "    <tr>\n",
       "      <th>7</th>\n",
       "      <td>0.499922</td>\n",
       "      <td>0.482247</td>\n",
       "      <td>ST3160316AS.csv</td>\n",
       "      <td>0.499922</td>\n",
       "      <td>0.049990</td>\n",
       "      <td>0.049990</td>\n",
       "      <td>0.049990</td>\n",
       "    </tr>\n",
       "    <tr>\n",
       "      <th>8</th>\n",
       "      <td>0.528457</td>\n",
       "      <td>0.479389</td>\n",
       "      <td>ST31500541AS.csv</td>\n",
       "      <td>0.528457</td>\n",
       "      <td>0.474165</td>\n",
       "      <td>0.472167</td>\n",
       "      <td>0.470363</td>\n",
       "    </tr>\n",
       "    <tr>\n",
       "      <th>9</th>\n",
       "      <td>0.566657</td>\n",
       "      <td>0.479213</td>\n",
       "      <td>ST8000DM002.csv</td>\n",
       "      <td>0.566657</td>\n",
       "      <td>0.435894</td>\n",
       "      <td>0.429359</td>\n",
       "      <td>0.422831</td>\n",
       "    </tr>\n",
       "    <tr>\n",
       "      <th>10</th>\n",
       "      <td>0.611081</td>\n",
       "      <td>0.479456</td>\n",
       "      <td>WDC WD60EFRX.csv</td>\n",
       "      <td>0.611081</td>\n",
       "      <td>0.464748</td>\n",
       "      <td>0.419555</td>\n",
       "      <td>0.362960</td>\n",
       "    </tr>\n",
       "    <tr>\n",
       "      <th>11</th>\n",
       "      <td>1.000000</td>\n",
       "      <td>0.480872</td>\n",
       "      <td>WDC WD800AAJS.csv</td>\n",
       "      <td>1.000000</td>\n",
       "      <td>0.000000</td>\n",
       "      <td>0.000000</td>\n",
       "      <td>0.000000</td>\n",
       "    </tr>\n",
       "  </tbody>\n",
       "</table>\n",
       "</div>"
      ],
      "text/plain": [
       "    DecisionTreeClassifier  FakeAlgorithm          drive_csv  winner_f_beta  \\\n",
       "0                 0.499613       0.476075    ST4000DM005.csv       0.499613   \n",
       "1                 0.499845       0.480548    ST4000DM001.csv       0.499845   \n",
       "2                 0.499849       0.479243    ST3160318AS.csv       0.499849   \n",
       "3                 0.499889       0.479679   WDC WD20EFRX.csv       0.499889   \n",
       "4                 0.499895       0.478194  ST250LM004 HN.csv       0.499895   \n",
       "5                 0.499911       0.480173    ST9250315AS.csv       0.499911   \n",
       "6                 0.499916       0.479727   ST32000542AS.csv       0.499916   \n",
       "7                 0.499922       0.482247    ST3160316AS.csv       0.499922   \n",
       "8                 0.528457       0.479389   ST31500541AS.csv       0.528457   \n",
       "9                 0.566657       0.479213    ST8000DM002.csv       0.566657   \n",
       "10                0.611081       0.479456   WDC WD60EFRX.csv       0.611081   \n",
       "11                1.000000       0.480872  WDC WD800AAJS.csv       1.000000   \n",
       "\n",
       "    maximal_fbeta  mean_fbeta  minimal_fbeta  \n",
       "0        0.000000    0.000000       0.000000  \n",
       "1        0.049977    0.049977       0.049977  \n",
       "2        0.257868    0.249474       0.207874  \n",
       "3        0.149917    0.116601       0.049986  \n",
       "4        0.149615    0.074843       0.049752  \n",
       "5        0.201165    0.183787       0.151217  \n",
       "6        0.382598    0.380919       0.377590  \n",
       "7        0.049990    0.049990       0.049990  \n",
       "8        0.474165    0.472167       0.470363  \n",
       "9        0.435894    0.429359       0.422831  \n",
       "10       0.464748    0.419555       0.362960  \n",
       "11       0.000000    0.000000       0.000000  "
      ]
     },
     "execution_count": 4,
     "metadata": {},
     "output_type": "execute_result"
    }
   ],
   "source": [
    "Validation.merge_and_show(validation_results)"
   ]
  },
  {
   "cell_type": "markdown",
   "metadata": {},
   "source": [
    "Comparing to the random guess, that defined a fbeta score of $0.4792$ as mean, the kfold result of the grid searched `DecisionTreeClassifier` is more worse: $0.2032$. As requested by a review, I extended the kfold run to use different random states and recalculated them. The new mean is $0.202$ - in combination with the very low rate of failures, this low number seems legit. All folds with no predictions where classified as an fbeta score of $0.0$ "
   ]
  },
  {
   "cell_type": "markdown",
   "metadata": {},
   "source": [
    "## Justification"
   ]
  },
  {
   "cell_type": "markdown",
   "metadata": {},
   "source": [
    "The calculated fbeta scores seems not to reflect the actual performance of the implemented classifiers. Lets take a more deep view of each range of fbeta score. Note that I am using here the initial calculated fbeta score for `DecisionTreeClassifier`."
   ]
  },
  {
   "cell_type": "markdown",
   "metadata": {},
   "source": [
    "### FBeta from 0.475 to 0.482"
   ]
  },
  {
   "cell_type": "markdown",
   "metadata": {},
   "source": [
    "The provided results show that for a lot of drives, the untrained `FakeAlgorithm` generates a score between 0.47 and 0.482. Only for the `ST33000651AS` the `LinearSVC` performs slightly better than the `FakeAlgorithm`. "
   ]
  },
  {
   "cell_type": "markdown",
   "metadata": {},
   "source": [
    "### FBeta from 0.484 to 0.497"
   ]
  },
  {
   "cell_type": "markdown",
   "metadata": {},
   "source": [
    "For this Range, the `GaussianNB` than performs better, again with an \"outlier\" by the `FakeAlgorithm`. It is possible that for the drive `ST2000DL003` the amount of data for this drive with 1238 is just not enough to let the algorithm, learn the patterns."
   ]
  },
  {
   "cell_type": "markdown",
   "metadata": {},
   "source": [
    "### FBeta  0.499 to 0.5"
   ]
  },
  {
   "cell_type": "markdown",
   "metadata": {},
   "source": [
    "A lot of different algorithms win with this fbeta score.\n",
    "\n",
    "|Algorithm|Wins|\n",
    "|-----|---|\n",
    "|AdaBoostClassifier|6|\n",
    "|RandomForestClassifier|2|\n",
    "|DecisionTreeClassifier|7|\n",
    "|GaussianNB|1|\n",
    "|SGDClassifier|1|\n",
    "|LinearSVC|1|\n",
    "\n",
    "This Range is the area of the somehow \"Tree\" based approaches, again with some outliers by `GaussianNB`, `SGDClassifier` and `LinearSVC`. All this drives outperform the random guess, they could detect some patterns inside the data, even with a low fbeta score."
   ]
  },
  {
   "cell_type": "markdown",
   "metadata": {},
   "source": [
    "### Fbeta from 0.5 to 0.52"
   ]
  },
  {
   "cell_type": "markdown",
   "metadata": {},
   "source": [
    "The next range is leading by `GaussianNB` again. Only for the `Hitachi HDS722020ALA330` the `NearestCentroid` algorithm wins. `GaussianNB` have a Delta of only 0.000607 - so it was really close compared to the  `NearestCentroid` algorithm. A rerun of this dataset could already generate a different score and a different winner."
   ]
  },
  {
   "cell_type": "markdown",
   "metadata": {},
   "source": [
    "### FBeta from 0.52 to 0.55"
   ]
  },
  {
   "cell_type": "markdown",
   "metadata": {},
   "source": [
    "This Range is totally mixed. Each winner is only one time present. We also have `Keras` and `XGBoost` first time as winners for a drive. "
   ]
  },
  {
   "cell_type": "markdown",
   "metadata": {},
   "source": [
    "### FBeta from 0.55 to 0.6"
   ]
  },
  {
   "cell_type": "markdown",
   "metadata": {},
   "source": [
    "Going on in the next Range upto 0.6, we find the first time the `LightGBM` lib by Microsoft that I also used in this project to compare it. Its also interisting that this algorithm could finish without waiting for hours to complete, as `ST4000DM000` was the second biggest dataset. It also have the higest amount of failures in total. A lot of algorithms did not finish on my local environment with this drive. I not used cloud providers. "
   ]
  },
  {
   "cell_type": "markdown",
   "metadata": {},
   "source": [
    "### FBeta from 0.6 to 0.7"
   ]
  },
  {
   "cell_type": "markdown",
   "metadata": {},
   "source": [
    "For to range upto 0.7, we first time find the \"default\" MLPClassifier. Suprisingly `Keras` did a really bad job on this drive. Its possible that my network that I created just not reflect the best Keras network at all..."
   ]
  },
  {
   "cell_type": "markdown",
   "metadata": {},
   "source": [
    "### FBeta to 1"
   ]
  },
  {
   "cell_type": "markdown",
   "metadata": {},
   "source": [
    "And finally the last range. We also have a fbeta Score of 1 for the drive `WDC WD800AAJS`. Note that this drive got a kfold fbeta score of a lower value."
   ]
  },
  {
   "cell_type": "markdown",
   "metadata": {},
   "source": [
    "# Conclusion\n",
    "## Free-Form Visualization"
   ]
  },
  {
   "cell_type": "code",
   "execution_count": 2,
   "metadata": {},
   "outputs": [
    {
     "data": {
      "application/vnd.plotly.v1+json": {
       "data": [
        {
         "marker": {
          "color": [
           "#e6194b",
           "#3cb44b",
           "#ffe119",
           "#4363d8",
           "#f58231",
           "#911eb4",
           "#46f0f0",
           "#f032e6",
           "#bcf60c",
           "#fabebe",
           "#008080",
           "#e6beff",
           "#9a6324"
          ],
          "line": {
           "color": "#000000",
           "width": 2
          }
         },
         "textfont": {
          "size": 10
         },
         "type": "bar",
         "uid": "3894140c-b118-11e8-92fc-fcaa14710b08",
         "x": [
          "AdaBoost",
          "DecisionTree",
          "Fake",
          "GaussianNB",
          "Keras",
          "LightGBM",
          "LinearSVC",
          "MLP",
          "NearestCentroid",
          "RandomForest",
          "SGD",
          "SVC",
          "XGBoostGbtree"
         ],
         "y": [
          12,
          12,
          9,
          10,
          4,
          2,
          3,
          1,
          1,
          4,
          1,
          0,
          1
         ]
        }
       ],
       "layout": {
        "autosize": false,
        "height": 400,
        "title": "Total Algorithm winners",
        "width": 600,
        "xaxis": {
         "tickangle": -45
        }
       }
      },
      "text/html": [
       "<div id=\"7a340628-b31f-4d61-99a2-0656f94c12b9\" style=\"height: 400px; width: 600px;\" class=\"plotly-graph-div\"></div><script type=\"text/javascript\">require([\"plotly\"], function(Plotly) { window.PLOTLYENV=window.PLOTLYENV || {};window.PLOTLYENV.BASE_URL=\"https://plot.ly\";Plotly.newPlot(\"7a340628-b31f-4d61-99a2-0656f94c12b9\", [{\"marker\": {\"color\": [\"#e6194b\", \"#3cb44b\", \"#ffe119\", \"#4363d8\", \"#f58231\", \"#911eb4\", \"#46f0f0\", \"#f032e6\", \"#bcf60c\", \"#fabebe\", \"#008080\", \"#e6beff\", \"#9a6324\"], \"line\": {\"color\": \"#000000\", \"width\": 2}}, \"textfont\": {\"size\": 10}, \"x\": [\"AdaBoost\", \"DecisionTree\", \"Fake\", \"GaussianNB\", \"Keras\", \"LightGBM\", \"LinearSVC\", \"MLP\", \"NearestCentroid\", \"RandomForest\", \"SGD\", \"SVC\", \"XGBoostGbtree\"], \"y\": [12, 12, 9, 10, 4, 2, 3, 1, 1, 4, 1, 0, 1], \"type\": \"bar\", \"uid\": \"3897bb58-b118-11e8-88dc-fcaa14710b08\"}], {\"autosize\": false, \"height\": 400, \"title\": \"Total Algorithm winners\", \"width\": 600, \"xaxis\": {\"tickangle\": -45}}, {\"showLink\": true, \"linkText\": \"Export to plot.ly\"})});</script>"
      ],
      "text/vnd.plotly.v1+html": [
       "<div id=\"7a340628-b31f-4d61-99a2-0656f94c12b9\" style=\"height: 400px; width: 600px;\" class=\"plotly-graph-div\"></div><script type=\"text/javascript\">require([\"plotly\"], function(Plotly) { window.PLOTLYENV=window.PLOTLYENV || {};window.PLOTLYENV.BASE_URL=\"https://plot.ly\";Plotly.newPlot(\"7a340628-b31f-4d61-99a2-0656f94c12b9\", [{\"marker\": {\"color\": [\"#e6194b\", \"#3cb44b\", \"#ffe119\", \"#4363d8\", \"#f58231\", \"#911eb4\", \"#46f0f0\", \"#f032e6\", \"#bcf60c\", \"#fabebe\", \"#008080\", \"#e6beff\", \"#9a6324\"], \"line\": {\"color\": \"#000000\", \"width\": 2}}, \"textfont\": {\"size\": 10}, \"x\": [\"AdaBoost\", \"DecisionTree\", \"Fake\", \"GaussianNB\", \"Keras\", \"LightGBM\", \"LinearSVC\", \"MLP\", \"NearestCentroid\", \"RandomForest\", \"SGD\", \"SVC\", \"XGBoostGbtree\"], \"y\": [12, 12, 9, 10, 4, 2, 3, 1, 1, 4, 1, 0, 1], \"type\": \"bar\", \"uid\": \"3897bb58-b118-11e8-88dc-fcaa14710b08\"}], {\"autosize\": false, \"height\": 400, \"title\": \"Total Algorithm winners\", \"width\": 600, \"xaxis\": {\"tickangle\": -45}}, {\"showLink\": true, \"linkText\": \"Export to plot.ly\"})});</script>"
      ]
     },
     "metadata": {},
     "output_type": "display_data"
    }
   ],
   "source": [
    "freestyle = Freestyle()\n",
    "freestyle.plot()"
   ]
  },
  {
   "cell_type": "markdown",
   "metadata": {},
   "source": [
    "`AdaBoostClassifier` and `DecisionTreeClassifier` both share the first place in this competition. "
   ]
  },
  {
   "cell_type": "markdown",
   "metadata": {},
   "source": [
    "## Reflection\n"
   ]
  },
  {
   "cell_type": "markdown",
   "metadata": {},
   "source": [
    "Steps that where done for this project:\n",
    "* Download the data from backblaze\n",
    "* Unpack is, restructure the unpacked data\n",
    "* Extract each drive information to a separate file (splitting)\n",
    "* remove unneded data and reduce memory requirement for reading (minify)\n",
    "* create a train, test and validation set out of the separated files\n",
    "* Run different binary classification algorithms on the drives and compare the results with each other.\n",
    "* Do a Grid search for the winning algorithm. I did that for the `DecisionTreeClassifier`.\n",
    "* Run KFold on the improved algorithm\n",
    "* Group each drive by an fbeta score range and discuss the results\n",
    "\n",
    "Regarding this project, they where a lot of trouble. First transferring the data from the mixed form into a standard form that every possible S.M.A.R.T. value is present. Then merging this different \"raw\" files together. Then splitting each model type out of mixes and splitting again for test, train and validation set. After doing a lot of the work, I got a lot more out of memory errors than now. I had to add the drive_minify method, to reduce the total amount of data I pass to the algorithm. Before this refactoring, I loaded the entire csv file into RAM and than dropped the unneded columns - but before I could drop them, the RAM was already full and I could not continue. Calculating the size of test train and validation set was also at some point wrong, as calculating $3 \\cdot 0.1 = 0.3 -> 0 %$. But with no failures in test and validation set, the algorithms throw errors that a calculation is not possible. Having a very low amount of failures, I split the data in \"bigger\" parts to have more drives to run algorithms against.\n",
    "\n",
    "I also struggeled with not running the algorithms in sequence, as the IO operations by pandas `read_csv` not even scratch the performance of the installed SSD (A Samsung SSD 850 EVO 1 TB) - I learned a lot!\n"
   ]
  },
  {
   "cell_type": "markdown",
   "metadata": {},
   "source": [
    "## Improvement\n"
   ]
  },
  {
   "cell_type": "markdown",
   "metadata": {},
   "source": [
    "Having more cpu power and RAM allows to calculate more algorithms and generate more results. Also a Gridsearch and a KFold can be implemented for more algorithms to check if it is really performing as good / poor as expeted. It is also interesting  to run them on even more frameworks like Apache Spark or pytorch to have a even bigger set of algorithms. Some cloud providers also offer their own implementation of different algorithms with hyperparameter tuning. This could also increase the number of algorithms that are comparing against each other.\n",
    "\n",
    "In general, this challange is taff, as the overall failure rate is only 1.8% of all drives in average. It is like searching a needle in a haystack (german: \"Nadel im Heuhaufen suchen\"). This is also reflected by the general low fbeta score for a lot of drives.\n",
    "\n",
    "I mixed drives with different capacity together. I could be interisting if splitting them by capacity somehow increases the accuracy. Also somebody could try to run the algorithms against all drives by a given manufacturer to have more failing drives in the datasets and compare them with my solution."
   ]
  },
  {
   "cell_type": "markdown",
   "metadata": {},
   "source": [
    "If you feel like giving me feedback, write me on Twitter @dariusmurawski"
   ]
  },
  {
   "cell_type": "code",
   "execution_count": null,
   "metadata": {},
   "outputs": [],
   "source": []
  }
 ],
 "metadata": {
  "kernelspec": {
   "display_name": "Python 3",
   "language": "python",
   "name": "python3"
  },
  "language_info": {
   "codemirror_mode": {
    "name": "ipython",
    "version": 3
   },
   "file_extension": ".py",
   "mimetype": "text/x-python",
   "name": "python",
   "nbconvert_exporter": "python",
   "pygments_lexer": "ipython3",
   "version": "3.6.5"
  }
 },
 "nbformat": 4,
 "nbformat_minor": 2
}
